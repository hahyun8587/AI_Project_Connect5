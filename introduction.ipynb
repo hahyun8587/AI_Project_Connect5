{
 "cells": [
  {
   "cell_type": "markdown",
   "metadata": {},
   "source": [
    "## Policy Gradient  \n",
    "- 강화학습의 정책을 경사상승법으로 구하는 방법  \n",
    "- 목적함수: 보상함수(모든 상태에서 얻을 수 있는 보상의 합)\n",
    "- 보상함수를 증가시키는 방향으로 가중치 업데이트 -> 경사상승\n",
    "\n",
    "## Neural Net Architecture  \n",
    "- 입력층 노드 수: 225개(15x15)  \n",
    "- 출력층 노드 수: 225개(15x15) (각 액션의 확률)\n",
    "- 활성화 함수: relu  \n",
    "- 출력층 활성화 함수: relu + softmax  \n",
    "\n",
    "## Objective Function    \n",
    "$\\quad J(\\theta) = \\sum_{t=0}^{T-1} \\log\\pi_\\theta (a_t|s_t)G_t$   \n",
    "  \n",
    "$\\quad\\pi_\\theta(a_t|s_t)$: 상태 $s_t$에서 액션 $a_t$를 할 확률  \n",
    "$\\quad G_t$: 모든 보상의 합($\\mathbb{E}[\\gamma^0r_1+\\gamma^1r_2+...+\\gamma^{T-1}r_T|\\pi_\\theta]$)  \n",
    "  \n",
    "### gradient  \n",
    "$\\quad\\nabla_{w_{jk}} J(\\theta) = \\sum_{t=0}^{T-1}\\nabla_{w_{jk}}\\log\\pi_w (a_t|s_t)G_t$  \n",
    "  \n",
    "$\\qquad\\qquad\\;= \\sum_{t=0}^{T-1}(y_k^{(t)}-softmax(a_k^{(t)}))relu^\\prime(z_k^{(t)})a_j $\n",
    "  \n",
    "$\\qquad\\qquad\\;= \\sum_{t=0}^{T-1}(y_k^{(t)}-\\hat y_k^{(t)})relu^\\prime(z_k^{(t)})a_j $  \n",
    "\n",
    "경사상승법이므로 역전파 단계에서 미분값을 더해주면 된다.    \n",
    "$w_{jk} \\leftarrow \\alpha (y_k^{(t)}-\\hat y_k^{(t)})relu^\\prime(z_k^{(t)})a_j$\n",
    "\n",
    "## Algorithm\n",
    "\n",
    "__for__ each timestep __do__  \n",
    "$\\quad$ feed forward  \n",
    "$\\quad$ save A and Z  \n",
    "$\\quad$ get reward from environment  \n",
    "$\\quad$ save reward  \n",
    "__end for__  \n",
    "\n",
    "rearrange A and Z\n",
    "\n",
    "__for__ each episode __do__  \n",
    "$\\quad$ __for__ i = 0 to i = n - 1 __do__  \n",
    "$\\qquad W[i] \\leftarrow  \\delta W[i]$  \n",
    "$\\quad$ __end for__  \n",
    "__end for__  \n",
    "\n",
    "1. 신경망으로 액션 출력  \n",
    "2. 환경으로부터 보상 저장  \n",
    "3. 역전파    \n",
    "4. 1~3 반복"
   ]
  },
  {
   "cell_type": "code",
   "execution_count": null,
   "metadata": {},
   "outputs": [],
   "source": []
  }
 ],
 "metadata": {
  "kernelspec": {
   "display_name": "Python 3",
   "language": "python",
   "name": "python3"
  },
  "language_info": {
   "codemirror_mode": {
    "name": "ipython",
    "version": 3
   },
   "file_extension": ".py",
   "mimetype": "text/x-python",
   "name": "python",
   "nbconvert_exporter": "python",
   "pygments_lexer": "ipython3",
   "version": "3.6.5"
  }
 },
 "nbformat": 4,
 "nbformat_minor": 2
}
